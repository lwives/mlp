{
 "cells": [
  {
   "cell_type": "markdown",
   "metadata": {},
   "source": [
    "Python também é uma linguagem orientada a objetos e, portanto, podemos definir classes a fim de organizar melhor nosso código.\n",
    "\n",
    "O exemplo seguinte define uma classe chamada \"Pessoa\" (assim como fizemos em C++). Analise-a e contraste-a com a classe que fizemos nos laboratórios anteriores:"
   ]
  },
  {
   "cell_type": "code",
   "execution_count": 2,
   "metadata": {
    "collapsed": false
   },
   "outputs": [
    {
     "name": "stdout",
     "output_type": "stream",
     "text": [
      "p1: Nome: Indefinido | Idade: 0 | Sexo: I\n",
      "p2: Nome: Adriana | Idade: 21 | Sexo: F\n",
      "<__main__.Pessoa object at 0x7fb82474dbe0>\n",
      "<__main__.Pessoa object at 0x7fb82474dc50>\n"
     ]
    }
   ],
   "source": [
    "class Pessoa:\n",
    "    def __init__(self): # Método Construtor\n",
    "        #  self eh o mesmo que 'this' em C++/Java (refere-se à propria instância)\n",
    "        #  perceba que self é passado como parâmero (automaticamente) para todas os métodos da classe\n",
    "        self.set_idade(0)\n",
    "        self.set_nome('Indefinido')\n",
    "        self.set_sexo('I')\n",
    "\n",
    "    def set_nome(self, nome):\n",
    "        self.nome = nome\n",
    "\n",
    "\n",
    "    def set_idade(self, idade):\n",
    "        self.idade = idade\n",
    "\n",
    "    def set_sexo(self, sexo):\n",
    "        if (sexo == 'I' or sexo == 'i'):\n",
    "            self.sexo = 'I'\n",
    "        elif (sexo == 'M' or sexo == 'm'):\n",
    "            self.sexo = 'M'\n",
    "        elif (sexo == 'F' or sexo == 'f'):\n",
    "            self.sexo = 'F'\n",
    "\n",
    "    def get_nome(self):\n",
    "        return self.nome\n",
    "\n",
    "    def get_idade(self):\n",
    "        return self.idade\n",
    "\n",
    "    def get_sexo(self):\n",
    "        return self.sexo\n",
    "\n",
    "def main():\n",
    "    p1 = Pessoa()\n",
    "    p2 = Pessoa()\n",
    "\n",
    "    p2.set_idade(21)\n",
    "    p2.set_nome(\"Adriana\")\n",
    "    p2.set_sexo('F')\n",
    "\n",
    "    print(\"p1: Nome: \" + p1.get_nome() + \" | Idade: \" + str(p1.get_idade()) + \" | Sexo: \" + p1.get_sexo())\n",
    "    print(\"p2: Nome: \" + p2.get_nome() + \" | Idade: \" + str(p2.get_idade()) + \" | Sexo: \" + p2.get_sexo())\n",
    "\t  \n",
    "    pessoas = {}\n",
    "    pessoas[p1.get_nome()] = p1\n",
    "    pessoas[p2.get_nome()] = p2\n",
    "    print(pessoas[p2.get_nome()])\n",
    "\t  \n",
    "    plist = [p1, p2]\n",
    "    print(plist[0])\n",
    "\n",
    "if (__name__ == \"__main__\"):    # o programa inicia a execucao aqui\n",
    "      main()                    # chama a funcao main (poderia ter outro nome)"
   ]
  },
  {
   "cell_type": "markdown",
   "metadata": {},
   "source": [
    "Com base na classe anterior, procure definir uma subclasse (filha de pessoa) para armazenar dados sobre alunos. Depois, use o arquivo de dados do ENAD para criar um conjunto de Alunos (em um Array ou Dicionário), armazenando seus dados do ENAD. Para cada linha do arquivo do ENAD, crie uma instância de Aluno e inicialize-a com nomes fictíceos, mas com dados do arquivo. Use pelo menos: ano de conclusão do ensino médio, sexo e nota geral. Procure, ao final, mostrar a média (nota geral) por sexo (numa tabela). Descubra ainda a quantidade relativa de indivíduos que realizaram a prova, por sexo, usando como base um gráfico em forma de pizza."
   ]
  }
 ],
 "metadata": {
  "kernelspec": {
   "display_name": "Python 3",
   "language": "python",
   "name": "python3"
  },
  "language_info": {
   "codemirror_mode": {
    "name": "ipython",
    "version": 3
   },
   "file_extension": ".py",
   "mimetype": "text/x-python",
   "name": "python",
   "nbconvert_exporter": "python",
   "pygments_lexer": "ipython3",
   "version": "3.5.2"
  }
 },
 "nbformat": 4,
 "nbformat_minor": 1
}
